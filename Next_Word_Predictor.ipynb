{
  "nbformat": 4,
  "nbformat_minor": 0,
  "metadata": {
    "colab": {
      "provenance": [],
      "gpuType": "T4"
    },
    "kernelspec": {
      "name": "python3",
      "display_name": "Python 3"
    },
    "language_info": {
      "name": "python"
    },
    "accelerator": "GPU"
  },
  "cells": [
    {
      "cell_type": "code",
      "execution_count": null,
      "metadata": {
        "id": "SPcYJE2993YE"
      },
      "outputs": [],
      "source": [
        "import torch\n",
        "import torch.nn as nn\n",
        "import torch.optim as optim\n",
        "from torch.utils.data import Dataset, DataLoader\n",
        "import pandas as pd\n",
        "import random\n"
      ]
    },
    {
      "cell_type": "code",
      "source": [
        "# Loading and preprocess text\n",
        "\n",
        "with open(\"next_word_predictor.txt\", \"r\", encoding=\"utf-8\") as f:\n",
        "    text = f.read().lower()\n",
        "\n",
        "# Removing extra symbols\n",
        "import re\n",
        "text = re.sub(r'[^a-zA-Z\\s]', '', text.lower())\n",
        "words = text.split()\n",
        "\n",
        "\n",
        "# Creating vocabulary\n",
        "\n",
        "vocab = sorted(set(words))\n",
        "word_to_idx = {w: i for i, w in enumerate(vocab)}\n",
        "idx_to_word = {i: w for w, i in word_to_idx.items()}\n",
        "\n",
        "print(\"Total unique words:\", len(vocab))"
      ],
      "metadata": {
        "colab": {
          "base_uri": "https://localhost:8080/"
        },
        "id": "XK0IliMclcdN",
        "outputId": "f711fb5d-8dc5-4dfb-fa27-af29eefa8f0c"
      },
      "execution_count": null,
      "outputs": [
        {
          "output_type": "stream",
          "name": "stdout",
          "text": [
            "Total unique words: 4966\n"
          ]
        }
      ]
    },
    {
      "cell_type": "code",
      "source": [
        "# Dataset class\n",
        "\n",
        "class WordDataset(Dataset):\n",
        "    def __init__(self, words, seq_len=3):\n",
        "        self.seq_len = seq_len\n",
        "        self.data = [word_to_idx[w] for w in words]\n",
        "\n",
        "    def __len__(self):\n",
        "        return len(self.data) - self.seq_len\n",
        "\n",
        "    def __getitem__(self, idx):\n",
        "        x = torch.tensor(self.data[idx:idx+self.seq_len])\n",
        "        y = torch.tensor(self.data[idx+self.seq_len])\n",
        "        return x, y\n",
        "\n",
        "dataset = WordDataset(words, seq_len=3)\n",
        "loader = DataLoader(dataset, batch_size=4, shuffle=True)"
      ],
      "metadata": {
        "id": "gVavJyIbmqCZ"
      },
      "execution_count": null,
      "outputs": []
    },
    {
      "cell_type": "code",
      "source": [
        "# RNN model\n",
        "\n",
        "class WordRNN(nn.Module):\n",
        "    def __init__(self, vocab_size, embed_size=32, hidden_size=64):\n",
        "        super().__init__()\n",
        "        self.embed = nn.Embedding(vocab_size, embed_size)\n",
        "        self.rnn = nn.RNN(embed_size, hidden_size, batch_first=True)\n",
        "        self.fc = nn.Linear(hidden_size, vocab_size)\n",
        "\n",
        "    def forward(self, x):\n",
        "        x = self.embed(x)\n",
        "        out, _ = self.rnn(x)\n",
        "        out = self.fc(out[:, -1, :])  # last hidden state\n",
        "        return out\n"
      ],
      "metadata": {
        "id": "uyIJQTxEm4SJ"
      },
      "execution_count": null,
      "outputs": []
    },
    {
      "cell_type": "code",
      "source": [
        "print(\"Sample words:\", words[:50])\n",
        "print(\"Vocabulary size:\", len(vocab))"
      ],
      "metadata": {
        "colab": {
          "base_uri": "https://localhost:8080/"
        },
        "id": "oNCA0bPRwR4f",
        "outputId": "b7c2c6a5-cf3f-4683-8649-9fc0d01280bb"
      },
      "execution_count": null,
      "outputs": [
        {
          "output_type": "stream",
          "name": "stdout",
          "text": [
            "Sample words: ['the', 'sun', 'was', 'shining', 'brightly', 'in', 'the', 'clear', 'blue', 'sky', 'and', 'a', 'gentle', 'breeze', 'rustled', 'the', 'leaves', 'of', 'the', 'tall', 'trees', 'people', 'were', 'out', 'enjoying', 'the', 'beautiful', 'weather', 'some', 'sitting', 'in', 'the', 'park', 'others', 'taking', 'a', 'leisurely', 'stroll', 'along', 'the', 'riverbank', 'children', 'were', 'playing', 'games', 'and', 'laughter', 'filled', 'the', 'air']\n",
            "Vocabulary size: 4966\n"
          ]
        }
      ]
    },
    {
      "cell_type": "code",
      "source": [
        "torch.nn.utils.clip_grad_norm_(model.parameters(), max_norm=5)\n"
      ],
      "metadata": {
        "colab": {
          "base_uri": "https://localhost:8080/"
        },
        "id": "oqClmuelwSer",
        "outputId": "e8c86282-4c11-44b0-aba2-8a5261d3abe6"
      },
      "execution_count": null,
      "outputs": [
        {
          "output_type": "execute_result",
          "data": {
            "text/plain": [
              "tensor(2.0552, device='cuda:0')"
            ]
          },
          "metadata": {},
          "execution_count": 31
        }
      ]
    },
    {
      "cell_type": "code",
      "source": [],
      "metadata": {
        "id": "wYZtHFP0woJt"
      },
      "execution_count": null,
      "outputs": []
    },
    {
      "cell_type": "code",
      "source": [
        "# Training setup\n",
        "\n",
        "device = \"cuda\" if torch.cuda.is_available() else \"cpu\"\n",
        "model = WordRNN(len(vocab)).to(device)\n",
        "\n",
        "criterion = nn.CrossEntropyLoss()\n",
        "optimizer = optim.Adam(model.parameters(), lr=0.001)\n",
        "\n",
        "for epoch in range(30):\n",
        "    total_loss = 0\n",
        "    for X, y in loader:\n",
        "        X, y = X.to(device), y.to(device)\n",
        "        optimizer.zero_grad()\n",
        "        output = model(X)\n",
        "        loss = criterion(output, y)\n",
        "        loss.backward()\n",
        "        optimizer.step()\n",
        "        total_loss += loss.item()\n",
        "\n",
        "    avg_loss = total_loss / len(loader)\n",
        "    print(f\"Epoch {epoch+1}, Loss: {avg_loss:.4f}\")\n"
      ],
      "metadata": {
        "colab": {
          "base_uri": "https://localhost:8080/"
        },
        "id": "Az8GcuCemtzE",
        "outputId": "239f0a79-080b-4627-f008-0971d1dfef18"
      },
      "execution_count": null,
      "outputs": [
        {
          "output_type": "stream",
          "name": "stdout",
          "text": [
            "Epoch 1, Loss: 7.1016\n",
            "Epoch 2, Loss: 6.2200\n",
            "Epoch 3, Loss: 5.7076\n",
            "Epoch 4, Loss: 5.3071\n",
            "Epoch 5, Loss: 4.9663\n",
            "Epoch 6, Loss: 4.6598\n",
            "Epoch 7, Loss: 4.3811\n",
            "Epoch 8, Loss: 4.1197\n",
            "Epoch 9, Loss: 3.8807\n",
            "Epoch 10, Loss: 3.6557\n",
            "Epoch 11, Loss: 3.4475\n",
            "Epoch 12, Loss: 3.2584\n",
            "Epoch 13, Loss: 3.0866\n",
            "Epoch 14, Loss: 2.9259\n",
            "Epoch 15, Loss: 2.7775\n",
            "Epoch 16, Loss: 2.6409\n",
            "Epoch 17, Loss: 2.5228\n",
            "Epoch 18, Loss: 2.4136\n",
            "Epoch 19, Loss: 2.3167\n",
            "Epoch 20, Loss: 2.2277\n",
            "Epoch 21, Loss: 2.1501\n",
            "Epoch 22, Loss: 2.0771\n",
            "Epoch 23, Loss: 2.0084\n",
            "Epoch 24, Loss: 1.9457\n",
            "Epoch 25, Loss: 1.9003\n",
            "Epoch 26, Loss: 1.8519\n",
            "Epoch 27, Loss: 1.8017\n",
            "Epoch 28, Loss: 1.7633\n",
            "Epoch 29, Loss: 1.7218\n",
            "Epoch 30, Loss: 1.6877\n"
          ]
        }
      ]
    },
    {
      "cell_type": "code",
      "source": [
        "#  Prediction\n",
        "\n",
        "def predict_next_word(model, text_seq, top_k=3):\n",
        "    model.eval()\n",
        "    seq = text_seq.lower().split()\n",
        "    try:\n",
        "        x = torch.tensor([[word_to_idx[w] for w in seq]], device=device)\n",
        "    except KeyError:\n",
        "        return \"Unknown word in input.\"\n",
        "    with torch.no_grad():\n",
        "        out = model(x)\n",
        "        probs = torch.softmax(out, dim=1).cpu()\n",
        "        top_idx = torch.topk(probs, top_k).indices[0]\n",
        "    return [idx_to_word[i.item()] for i in top_idx]\n"
      ],
      "metadata": {
        "id": "7BkNW3HPmsFz"
      },
      "execution_count": 1,
      "outputs": []
    },
    {
      "cell_type": "code",
      "source": [
        "# Test Predictions\n",
        "\n",
        "samples = [\n",
        "    \"the sun was shining\",\n",
        "    \"Hello how are\",\n",
        "    \"his voice barely\",\n",
        "    \"deep in the amazon\",\n",
        "    \"quantum computing breakthrough\"\n",
        "]\n",
        "\n",
        "print(\"\\nPredictions:\")\n",
        "for s in samples:\n",
        "    print(f\"{s} → {predict_next_word(model, s)}\")"
      ],
      "metadata": {
        "colab": {
          "base_uri": "https://localhost:8080/"
        },
        "id": "s7eWK0ZSqLEE",
        "outputId": "59d49ab9-9ed7-4233-d015-508083ea8177"
      },
      "execution_count": null,
      "outputs": [
        {
          "output_type": "stream",
          "name": "stdout",
          "text": [
            "\n",
            "Predictions:\n",
            "the sun was shining → ['brightly', 'talking', 'data']\n",
            "Hello how are → ['you', 'growing', 'i']\n",
            "his voice barely → ['above', 'voice', 'takes']\n",
            "deep in the amazon → ['for', 'at', 'news']\n",
            "quantum computing breakthrough → ['paves', 'as', 'argue']\n"
          ]
        }
      ]
    }
  ]
}